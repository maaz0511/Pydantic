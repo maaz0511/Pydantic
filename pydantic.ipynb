{
 "cells": [
  {
   "cell_type": "markdown",
   "id": "4d383782-446b-4bf5-8189-a451d4017ded",
   "metadata": {},
   "source": [
    "# Pydantic Introduction\n",
    "\n",
    "### 1. Pydantic is a python library and it is used for:\n",
    "    - Type Validation = ensures input is of the correct data type (e.g., int, str, float).\n",
    "    - Data Validation = ensures input follows rules (e.g., age > 0, name only letters, etc.).\n",
    "\n",
    "### 2. Install pydantic\n",
    "    - pip install pydantic\n",
    "    - pip install pydantic[email]\n",
    "    \n",
    "### 3. How Pydantic Works\n",
    "    - Create a class that inherits from BaseModel.\n",
    "    - Define fields inside the class using type hints (e.g., name: str, age: int).\n",
    "    - Provide data as a dictionary or JSON.\n",
    "    - Create an object of the model and pass the data.\n",
    "    - Pydantic automatically validates the data types.\n",
    "\n",
    "### 4. Type Validation\n",
    "    1. Built-in Data Type\n",
    "    2. Combination Data Type : import from \"typing\" module\n",
    "    3. Special Data Type\n",
    "\n",
    "\n",
    "### 5. Data Validation\n",
    "    1. Field() function : with and without Annotated (import from \"typing\" module)\n",
    "    2. default values : 2 ways to use\n",
    "    3. Optional field : import from \"typing\" module\n",
    "    4. @field_validator : mode=\"after\"/\"before\"\n",
    "    5. @model_validator : mode=\"after\"/\"before\"\n",
    "    6. @computed_field : @property\n",
    "    7. nested field : 3 ways to use\n",
    "    8. serialization : include, exclude, exclude_unset"
   ]
  },
  {
   "cell_type": "markdown",
   "id": "ea670ad4-2c9d-47d8-a113-a012689f04e0",
   "metadata": {},
   "source": [
    "# Type Validation "
   ]
  },
  {
   "cell_type": "markdown",
   "id": "5f852108-5dd3-4fac-916b-33167b5a8992",
   "metadata": {},
   "source": [
    "## 1. Built-in Data Type"
   ]
  },
  {
   "cell_type": "code",
   "execution_count": 87,
   "id": "747e68ca-8c4e-4af1-8616-579c56883e05",
   "metadata": {},
   "outputs": [
    {
     "name": "stdout",
     "output_type": "stream",
     "text": [
      "roll_num=101 name='mohd maaz' age=23 marks=89.45 has_scholarship=False\n",
      "<class '__main__.Student'>\n"
     ]
    }
   ],
   "source": [
    "from pydantic import BaseModel\n",
    "\n",
    "class Student(BaseModel):\n",
    "    roll_num: int\n",
    "    name: str\n",
    "    age: int\n",
    "    marks: float\n",
    "    has_scholarship: bool\n",
    "\n",
    "data = {'roll_num':101,\n",
    "        'name':'mohd maaz', \n",
    "        'age':23,\n",
    "        'marks':89.45,\n",
    "        'has_scholarship':False}\n",
    "\n",
    "pydantic_object = Student(**data)\n",
    "\n",
    "print(pydantic_object)\n",
    "print(type(pydantic_object))"
   ]
  },
  {
   "cell_type": "code",
   "execution_count": 88,
   "id": "60e0088c-f70e-40ba-af78-86a8864902d0",
   "metadata": {},
   "outputs": [
    {
     "ename": "ValidationError",
     "evalue": "1 validation error for Student\nname\n  Input should be a valid string [type=string_type, input_value=123, input_type=int]\n    For further information visit https://errors.pydantic.dev/2.8/v/string_type",
     "output_type": "error",
     "traceback": [
      "\u001b[1;31m---------------------------------------------------------------------------\u001b[0m",
      "\u001b[1;31mValidationError\u001b[0m                           Traceback (most recent call last)",
      "Cell \u001b[1;32mIn[88], line 8\u001b[0m\n\u001b[0;32m      1\u001b[0m \u001b[38;5;66;03m# error \u001b[39;00m\n\u001b[0;32m      2\u001b[0m data2 \u001b[38;5;241m=\u001b[39m {\u001b[38;5;124m'\u001b[39m\u001b[38;5;124mroll_num\u001b[39m\u001b[38;5;124m'\u001b[39m:\u001b[38;5;241m101\u001b[39m,\n\u001b[0;32m      3\u001b[0m         \u001b[38;5;124m'\u001b[39m\u001b[38;5;124mname\u001b[39m\u001b[38;5;124m'\u001b[39m:\u001b[38;5;241m123\u001b[39m,           \u001b[38;5;66;03m#<- here is the error\u001b[39;00m\n\u001b[0;32m      4\u001b[0m         \u001b[38;5;124m'\u001b[39m\u001b[38;5;124mage\u001b[39m\u001b[38;5;124m'\u001b[39m:\u001b[38;5;241m23\u001b[39m,\n\u001b[0;32m      5\u001b[0m         \u001b[38;5;124m'\u001b[39m\u001b[38;5;124mmarks\u001b[39m\u001b[38;5;124m'\u001b[39m:\u001b[38;5;241m89.45\u001b[39m,\n\u001b[0;32m      6\u001b[0m         \u001b[38;5;124m'\u001b[39m\u001b[38;5;124mhas_scholarship\u001b[39m\u001b[38;5;124m'\u001b[39m:\u001b[38;5;28;01mFalse\u001b[39;00m}\n\u001b[1;32m----> 8\u001b[0m pydantic_object \u001b[38;5;241m=\u001b[39m Student(\u001b[38;5;241m*\u001b[39m\u001b[38;5;241m*\u001b[39mdata2)\n\u001b[0;32m     10\u001b[0m \u001b[38;5;28mprint\u001b[39m(pydantic_object)\n",
      "File \u001b[1;32m~\\anaconda3\\Lib\\site-packages\\pydantic\\main.py:193\u001b[0m, in \u001b[0;36mBaseModel.__init__\u001b[1;34m(self, **data)\u001b[0m\n\u001b[0;32m    191\u001b[0m \u001b[38;5;66;03m# `__tracebackhide__` tells pytest and some other tools to omit this function from tracebacks\u001b[39;00m\n\u001b[0;32m    192\u001b[0m __tracebackhide__ \u001b[38;5;241m=\u001b[39m \u001b[38;5;28;01mTrue\u001b[39;00m\n\u001b[1;32m--> 193\u001b[0m \u001b[38;5;28mself\u001b[39m\u001b[38;5;241m.\u001b[39m__pydantic_validator__\u001b[38;5;241m.\u001b[39mvalidate_python(data, self_instance\u001b[38;5;241m=\u001b[39m\u001b[38;5;28mself\u001b[39m)\n",
      "\u001b[1;31mValidationError\u001b[0m: 1 validation error for Student\nname\n  Input should be a valid string [type=string_type, input_value=123, input_type=int]\n    For further information visit https://errors.pydantic.dev/2.8/v/string_type"
     ]
    }
   ],
   "source": [
    "# error \n",
    "data2 = {'roll_num':101,\n",
    "        'name':123,           #<- here is the error\n",
    "        'age':23,\n",
    "        'marks':89.45,\n",
    "        'has_scholarship':False}\n",
    "\n",
    "pydantic_object = Student(**data2)\n",
    "\n",
    "print(pydantic_object)"
   ]
  },
  {
   "cell_type": "markdown",
   "id": "24eef205-2911-4cff-9da7-47032c39c48c",
   "metadata": {},
   "source": [
    "## 2. Combination Data Type\n",
    "\n",
    "1. These are types that combine other data types inside them (usually collections):\n",
    "- List → List[int], List[str] (list of integers, list of strings)\n",
    "- Dict → Dict[str, int] (dictionary with string keys and integer values)\n",
    "\n",
    "2. list[int] == List[int]\n",
    "- From Python 3.9+, you can write list[int], dict[str, int] directly.\n",
    "- Else import List, Dict from \"typing\" module"
   ]
  },
  {
   "cell_type": "code",
   "execution_count": 89,
   "id": "a2788157-8456-460d-99fa-bfeb8cebde69",
   "metadata": {},
   "outputs": [
    {
     "name": "stdout",
     "output_type": "stream",
     "text": [
      "roll_num=101 name='mohd maaz' subjects=['Maths', 'Computer', 'English'] scores={'maths': 79.0, 'Computer': 89.0, 'English': 88.0} achievements={'University Gold Medalist', 'Bank of Baroda Award'} hobby=('football', 5) hobbies=('Table Tennis', 'football')\n"
     ]
    }
   ],
   "source": [
    "# with List, Dict, Set, Tuple\n",
    "from pydantic import BaseModel\n",
    "from typing import Dict, Set, Tuple, List\n",
    "\n",
    "class Student(BaseModel):\n",
    "    roll_num: int\n",
    "    name: str\n",
    "    subjects: List[str]\n",
    "    scores: Dict[str, float]\n",
    "    achievements: Set[str]\n",
    "    hobby: Tuple[str, int]     # fixed only 2 elements allowed\n",
    "    hobbies: Tuple[str, ...]   # any elements but \"string\" type only\n",
    "\n",
    "data = {'roll_num':101,\n",
    "        'name':'mohd maaz', \n",
    "        'subjects':['Maths','Computer','English'],\n",
    "        'scores':{'maths':79, 'Computer':89, 'English':88},\n",
    "        'achievements':{'University Gold Medalist', 'Bank of Baroda Award'},\n",
    "        'hobbies':('Table Tennis', \"football\"),\n",
    "        'hobby' : (\"football\", 5)\n",
    "       }\n",
    "\n",
    "pydantic_object = Student(**data)\n",
    "\n",
    "print(pydantic_object)"
   ]
  },
  {
   "cell_type": "code",
   "execution_count": 90,
   "id": "419dd387-2f6f-4aed-a863-b28478dd78d6",
   "metadata": {},
   "outputs": [
    {
     "name": "stdout",
     "output_type": "stream",
     "text": [
      "roll_num=101 name='mohd maaz' subjects=['Maths', 'Computer', 'English'] scores={'maths': 79.0, 'Computer': 89.0, 'English': 88.0} achievements={'University Gold Medalist', 'Bank of Baroda Award'} hobby=('football', 5) hobbies=('Table Tennis', 'football')\n"
     ]
    }
   ],
   "source": [
    "# without List, Dict, Set, Tuple\n",
    "from pydantic import BaseModel\n",
    "\n",
    "class Student(BaseModel):\n",
    "    roll_num: int\n",
    "    name: str\n",
    "    subjects: list[str]\n",
    "    scores: dict[str, float]\n",
    "    achievements: set[str]\n",
    "    hobby: tuple[str, int]     # fixed only 2 elements allowed\n",
    "    hobbies: tuple[str, ...]   # any elements but \"string\" type only\n",
    "\n",
    "data = {'roll_num':101,\n",
    "        'name':'mohd maaz', \n",
    "        'subjects':['Maths','Computer','English'],\n",
    "        'scores':{'maths':79, 'Computer':89, 'English':88},\n",
    "        'achievements':{'University Gold Medalist', 'Bank of Baroda Award'},\n",
    "        'hobbies':('Table Tennis', \"football\"),\n",
    "        'hobby' : (\"football\", 5)\n",
    "       }\n",
    "\n",
    "pydantic_object = Student(**data)\n",
    "\n",
    "print(pydantic_object)"
   ]
  },
  {
   "cell_type": "markdown",
   "id": "0c42c940-bb93-4a1e-ba27-fdfe59966427",
   "metadata": {},
   "source": [
    "## 3. Special Data Types\n",
    "\n",
    "1. EmailStr → validates that the value is a valid email address.\n",
    "\n",
    "2. AnyUrl → accepts any valid URL (http, https, ftp, etc.).\n",
    "\n",
    "3. HttpUrl → accepts only HTTP/HTTPS URLs.\n",
    "\n",
    "4. StrictInt → only allows integers (no float-to-int coercion).\n",
    "\n",
    "5. StrictFloat → only allows floats (no int-to-float coercion).\n",
    "\n",
    "6. StrictStr → only allows strings (no auto-conversion).\n",
    "\n",
    "7. StrictBool → only allows True/False (no 1/0 or \"yes\"/\"no\")."
   ]
  },
  {
   "cell_type": "code",
   "execution_count": 91,
   "id": "42357611-f7fa-456e-9d8e-2a6d56ab4eb3",
   "metadata": {},
   "outputs": [
    {
     "name": "stdout",
     "output_type": "stream",
     "text": [
      "Requirement already satisfied: pydantic[email] in c:\\users\\mohdm\\anaconda3\\lib\\site-packages (2.8.2)\n",
      "Requirement already satisfied: annotated-types>=0.4.0 in c:\\users\\mohdm\\anaconda3\\lib\\site-packages (from pydantic[email]) (0.6.0)\n",
      "Requirement already satisfied: pydantic-core==2.20.1 in c:\\users\\mohdm\\anaconda3\\lib\\site-packages (from pydantic[email]) (2.20.1)\n",
      "Requirement already satisfied: typing-extensions>=4.6.1 in c:\\users\\mohdm\\anaconda3\\lib\\site-packages (from pydantic[email]) (4.11.0)\n",
      "Requirement already satisfied: email-validator>=2.0.0 in c:\\users\\mohdm\\anaconda3\\lib\\site-packages (from pydantic[email]) (2.2.0)\n",
      "Requirement already satisfied: dnspython>=2.0.0 in c:\\users\\mohdm\\anaconda3\\lib\\site-packages (from email-validator>=2.0.0->pydantic[email]) (2.7.0)\n",
      "Requirement already satisfied: idna>=2.0.0 in c:\\users\\mohdm\\anaconda3\\lib\\site-packages (from email-validator>=2.0.0->pydantic[email]) (3.7)\n"
     ]
    }
   ],
   "source": [
    "! pip install pydantic[email]"
   ]
  },
  {
   "cell_type": "code",
   "execution_count": 92,
   "id": "275b79ed-a890-4814-a8ee-11ba3b25d0cd",
   "metadata": {},
   "outputs": [
    {
     "name": "stdout",
     "output_type": "stream",
     "text": [
      "roll_num=101 name='Mohd Maaz' age=23 marks=89.45 has_scholarship=True email='maaz@example.com' website=Url('https://example.com/') profile_link=Url('http://linkedin.com/in/maaz0511')\n"
     ]
    }
   ],
   "source": [
    "from pydantic import BaseModel, EmailStr, AnyUrl, HttpUrl, StrictInt, StrictFloat, StrictStr, StrictBool\n",
    "\n",
    "class Student(BaseModel):\n",
    "    roll_num: StrictInt          # only int (no float -> int conversion)\n",
    "    name: StrictStr              # only str (int/float not auto converted)\n",
    "    age: StrictInt               # strict integer\n",
    "    marks: StrictFloat           # only float (int not auto converted)\n",
    "    has_scholarship: StrictBool  # only bool (1/0 not accepted)\n",
    "    email: EmailStr              # must be a valid email\n",
    "    website: AnyUrl              # any valid URL (http, https, ftp...)\n",
    "    profile_link: HttpUrl        # only http/https URL\n",
    "\n",
    "\n",
    "data = {\n",
    "    \"roll_num\": 101,\n",
    "    \"name\": \"Mohd Maaz\",\n",
    "    \"age\": 23,\n",
    "    \"marks\": 89.45,\n",
    "    \"has_scholarship\": True,\n",
    "    \"email\": \"maaz@example.com\",\n",
    "    \"website\": \"https://example.com\",\n",
    "    \"profile_link\": \"http://linkedin.com/in/maaz0511\"\n",
    "}\n",
    "\n",
    "object1 = Student(**data)\n",
    "print(object1)"
   ]
  },
  {
   "cell_type": "markdown",
   "id": "33104637-ad0e-490b-bbca-c4ed1d0ab021",
   "metadata": {},
   "source": [
    "# Data Validation"
   ]
  },
  {
   "cell_type": "markdown",
   "id": "287077e2-01c5-42e9-8be5-1b0f41238cf0",
   "metadata": {},
   "source": [
    "## 1. Field() function\n",
    "\n",
    "It is a function used to provide extra metadata and validation rules for fields.\n",
    "\n",
    "This function can be used in 2 ways:\n",
    "\n",
    "    1. As it is\n",
    "    2. With Annotated from typing module (from typing import Annotated)\n",
    "\n",
    "Parameters:\n",
    "\n",
    "    1. ... → Marks the field as required.\n",
    "\n",
    "    2. default → Sets a default value for the field.\n",
    "\n",
    "    3. title → Provides a short title for documentation.\n",
    "\n",
    "    4. description → Adds a detailed description for docs.\n",
    "\n",
    "    5. examples → Supplies example values (list) for documentation.\n",
    "\n",
    "    6. gt / ge → Numeric greater than / greater than or equal constraints.\n",
    "\n",
    "    7. lt / le → Numeric less than / less than or equal constraints.\n",
    "\n",
    "    8. min_length / max_length → Minimum/maximum length for strings or lists.\n",
    "\n",
    "    9. min_items / max_items → Minimum/maximum number of items in a list.\n",
    "\n",
    "    10. strict → Enforces strict type checking (True/False). It is equal to StrictInt, StrictFloat\n",
    "\n",
    "    11. const → Field must be equal to this constant value.\n",
    "\n",
    "    12. pattern → Validates strings against a regular expression."
   ]
  },
  {
   "cell_type": "markdown",
   "id": "01d2a688-4bbd-4942-90e4-d248360d2fab",
   "metadata": {},
   "source": [
    "### A. Without Annotated\n",
    "\n",
    "Syntax \n",
    "- name: str = Field(..., default='value', etc)"
   ]
  },
  {
   "cell_type": "code",
   "execution_count": 93,
   "id": "dfbaf964-4cae-4ef8-9659-004214b3833d",
   "metadata": {},
   "outputs": [
    {
     "name": "stdout",
     "output_type": "stream",
     "text": [
      "name='Mohd Maaz' roll_num=101 scholarship=True\n"
     ]
    }
   ],
   "source": [
    "from pydantic import BaseModel, Field\n",
    "\n",
    "class Student(BaseModel):\n",
    "    name: str = Field(\n",
    "                    ...,                                \n",
    "                    min_length=5,\n",
    "                    max_length=50,\n",
    "                    title=\"Name of Student\",\n",
    "                    description=\"Student name must be between 5-50 characters\",\n",
    "                    pattern=r\"^[A-Za-z\\s]+$\",             # only letters + spaces\n",
    "                    examples=[\"Mohd Maaz\", \"John Wick\"]\n",
    "                    )\n",
    "\n",
    "   \n",
    "    roll_num: int = Field(\n",
    "                    ...,\n",
    "                    gt=0,                              \n",
    "                    lt=1000,                            \n",
    "                    title=\"Roll Number\",\n",
    "                    description=\"Unique roll number between 1 and 999\",\n",
    "                    examples=[101, 202]\n",
    "                    )\n",
    "\n",
    "    scholarship: bool = Field(\n",
    "                    default=False,\n",
    "                    description=\"Whether student has scholarship, default is No\",\n",
    "                    examples=[True, False]\n",
    "                    )\n",
    "\n",
    "\n",
    "object1 = Student(\n",
    "    name=\"Mohd Maaz\",\n",
    "    roll_num=101,\n",
    "    scholarship=True\n",
    ")\n",
    "print(object1)"
   ]
  },
  {
   "cell_type": "markdown",
   "id": "c3a7ae66-0c83-44a2-b923-40bf4cea0290",
   "metadata": {},
   "source": [
    "### B. With Annotated\n",
    "\n",
    "from typing import Annotated\n",
    "\n",
    "Why use Annotated?\n",
    "- Keeps type and metadata separate.\n",
    "- Cleaner when combining multiple metadata annotations.\n",
    "\n",
    "Think of it like labeling:\n",
    "- str = Field(...) → “This is a string, also here’s extra info.”\n",
    "- Annotated[str, Field(...)] → “This is a string and it has attached metadata.”\n",
    "\n",
    "Syntax: \n",
    "- class_variable_name : Annotated [ data_type, Field() ]\n",
    "\n",
    "Example: \n",
    "- name: Annotated[ str, Field(...) ]"
   ]
  },
  {
   "cell_type": "code",
   "execution_count": 94,
   "id": "028fd9dd-d857-4160-97f4-d56cf0d7e4ec",
   "metadata": {},
   "outputs": [
    {
     "name": "stdout",
     "output_type": "stream",
     "text": [
      "name='Mohd Maaz' roll_num=101 scholarship=True\n",
      "<class '__main__.Student'>\n"
     ]
    }
   ],
   "source": [
    "from pydantic import BaseModel, Field\n",
    "from typing import Annotated\n",
    "\n",
    "class Student(BaseModel):\n",
    "    \n",
    "    name: Annotated[str,\n",
    "        Field(\n",
    "            ...,                                \n",
    "            min_length=5,\n",
    "            max_length=50,\n",
    "            title=\"Name of Student\",\n",
    "            description=\"Student name must be between 5-50 characters\",\n",
    "            pattern=r\"^[A-Za-z\\s]+$\",          \n",
    "            examples=[\"Mohd Maaz\", \"John Wick\"]\n",
    "        )\n",
    "    ]\n",
    "\n",
    "   \n",
    "    roll_num: Annotated[\n",
    "        int,\n",
    "        Field(\n",
    "            ...,\n",
    "            gt=0,                              \n",
    "            lt=1000,                           \n",
    "            title=\"Roll Number\",\n",
    "            description=\"Unique roll number between 1 and 999\",\n",
    "            examples=[101, 202]\n",
    "        )\n",
    "    ]\n",
    "\n",
    "   \n",
    "    scholarship: Annotated[\n",
    "        bool,\n",
    "        Field(\n",
    "            default=False,\n",
    "            description=\"Whether student has scholarship, default is No\",\n",
    "            examples=[True, False]\n",
    "        )\n",
    "    ]\n",
    "\n",
    "\n",
    "\n",
    "student = Student(\n",
    "    name=\"Mohd Maaz\",\n",
    "    roll_num=101,\n",
    "    scholarship=True\n",
    ")\n",
    "\n",
    "print(student)\n",
    "print(type(student))\n"
   ]
  },
  {
   "cell_type": "markdown",
   "id": "2777c30c-4c8e-4297-b123-03a91d292b25",
   "metadata": {},
   "source": [
    "## 2. Default Value"
   ]
  },
  {
   "cell_type": "code",
   "execution_count": 95,
   "id": "f5245a80-3747-4f7f-a3c6-b455b8a5be05",
   "metadata": {},
   "outputs": [
    {
     "name": "stdout",
     "output_type": "stream",
     "text": [
      "name='mohd maaz' has_scholarship=False\n"
     ]
    }
   ],
   "source": [
    "# way 1\n",
    "from pydantic import BaseModel\n",
    "\n",
    "class Student(BaseModel):\n",
    "    name: str\n",
    "    has_scholarship: bool = False\n",
    "\n",
    "data = {\n",
    "        'name':'mohd maaz'\n",
    "    }\n",
    "\n",
    "pydantic_object = Student(**data)\n",
    "\n",
    "print(pydantic_object)"
   ]
  },
  {
   "cell_type": "code",
   "execution_count": 96,
   "id": "492de29b-95ce-45fd-a45d-d17cefbe25c4",
   "metadata": {},
   "outputs": [
    {
     "name": "stdout",
     "output_type": "stream",
     "text": [
      "name='mohd maaz' has_scholarship=False\n"
     ]
    }
   ],
   "source": [
    "# way 2\n",
    "from pydantic import BaseModel, Field\n",
    "\n",
    "class Student(BaseModel):\n",
    "    name: str\n",
    "    has_scholarship: bool = Field(default=False)\n",
    "\n",
    "data = {\n",
    "        'name':'mohd maaz'\n",
    "    }\n",
    "\n",
    "pydantic_object = Student(**data)\n",
    "\n",
    "print(pydantic_object)"
   ]
  },
  {
   "cell_type": "markdown",
   "id": "ed2c5cbd-79e9-46c3-b18e-d91e98d9e8e2",
   "metadata": {},
   "source": [
    "## 3. Optional Field"
   ]
  },
  {
   "cell_type": "code",
   "execution_count": 97,
   "id": "6f890360-5184-4e99-9365-3613032c8f53",
   "metadata": {},
   "outputs": [
    {
     "name": "stdout",
     "output_type": "stream",
     "text": [
      "name='mohd maaz' has_scholarship=False\n"
     ]
    }
   ],
   "source": [
    "from pydantic import BaseModel\n",
    "from typing import Optional\n",
    "\n",
    "class Student(BaseModel):\n",
    "    name: str\n",
    "    has_scholarship: Optional[bool] = False\n",
    "\n",
    "data = {\n",
    "        'name':'mohd maaz'\n",
    "    }\n",
    "\n",
    "pydantic_object = Student(**data)\n",
    "\n",
    "print(pydantic_object)"
   ]
  },
  {
   "cell_type": "markdown",
   "id": "041f4992-10c7-4024-b1de-0f994504a87a",
   "metadata": {},
   "source": [
    "## 4. field_validator()\n",
    "Validate or transform a single field before or after parsing.\n",
    "\n",
    "Syntax:\n",
    "\n",
    "- @field_validator(\"field_name\")\n",
    "- def function_name(cls, value):\n",
    "   - pass"
   ]
  },
  {
   "cell_type": "code",
   "execution_count": 98,
   "id": "33711b94-2e02-4456-8a2a-e1b27a01c70b",
   "metadata": {},
   "outputs": [
    {
     "name": "stdout",
     "output_type": "stream",
     "text": [
      "name='MOHD MAAZ' email='mohdmaazwork@hdfc.com' age=23\n"
     ]
    }
   ],
   "source": [
    "from pydantic import BaseModel, field_validator, EmailStr\n",
    "\n",
    "class Student(BaseModel):\n",
    "    name: str\n",
    "    email: EmailStr\n",
    "    age: int\n",
    "\n",
    "    @field_validator(\"email\")\n",
    "    def check_email(cls, value):\n",
    "        valid_domains = ['hdfc.com', 'axis.com']\n",
    "        domain_name = value.split(\"@\")[-1]\n",
    "        \n",
    "        if domain_name not in valid_domains:\n",
    "            raise ValueError(\"Not a Valid Domain\")\n",
    "        \n",
    "        return value\n",
    "\n",
    "    @field_validator(\"name\")\n",
    "    def convert_name(cls, value):\n",
    "        return value.upper()\n",
    "\n",
    "    @field_validator('age', mode=\"after\")\n",
    "    def check_age(cls, value):\n",
    "        if 0 < value < 100:\n",
    "            return value\n",
    "        raise ValueError(\"Age must be between 0 and 100\")\n",
    "\n",
    "data = {\n",
    "    'name':'Mohd Maaz',\n",
    "    'email':'mohdmaazwork@hdfc.com',\n",
    "    'age':23\n",
    "}\n",
    "\n",
    "object1 = Student(**data)\n",
    "print(object1)"
   ]
  },
  {
   "cell_type": "markdown",
   "id": "f44d2035-2b74-4870-b3ad-78ff32f58a85",
   "metadata": {},
   "source": [
    "## 5. model_validator()\n",
    "Validate or transform the whole model (all fields together).\n",
    "\n",
    "Syntax:\n",
    "- @model_validator()\n",
    "- def function_name(cls, model):\n",
    "  - pass"
   ]
  },
  {
   "cell_type": "code",
   "execution_count": 99,
   "id": "6384ae79-c31d-417f-a811-6b71f89c413b",
   "metadata": {},
   "outputs": [
    {
     "name": "stdout",
     "output_type": "stream",
     "text": [
      "name='Mohd Maaz' email='mohdmaazwork@gmail.com' age=73 contact_details={'emergency': 8989898989}\n"
     ]
    }
   ],
   "source": [
    "from pydantic import BaseModel, model_validator, EmailStr\n",
    "from typing import Dict\n",
    "\n",
    "class Student(BaseModel):\n",
    "    name: str\n",
    "    email: EmailStr\n",
    "    age: int\n",
    "    contact_details: Dict[str, int]\n",
    "\n",
    "\n",
    "    @model_validator(mode=\"after\")\n",
    "    def check_contact(cls, model):\n",
    "        if model.age < 18 and 'emergency' not in model.contact_details:\n",
    "            raise ValueError('Students whose age is less than 18 must have an emergency contact')\n",
    "        return model\n",
    "\n",
    "data = {\n",
    "    'name':'Mohd Maaz',\n",
    "    'email':'mohdmaazwork@gmail.com',\n",
    "    'age':73,\n",
    "    'contact_details':{'emergency':8989898989}\n",
    "}\n",
    "\n",
    "object1 = Student(**data)\n",
    "print(object1)"
   ]
  },
  {
   "cell_type": "markdown",
   "id": "c86621f0-9bba-4160-9b0d-d750f58e442f",
   "metadata": {},
   "source": [
    "## 6. computed_field\n",
    "Add a read-only field that is computed from other fields.\n",
    "\n",
    "Syntax:\n",
    "- @computed_field\n",
    "- @property\n",
    "- def function_name():"
   ]
  },
  {
   "cell_type": "code",
   "execution_count": 100,
   "id": "67d4d2a5-f5da-4f4a-9bd9-71d0d1d7ae63",
   "metadata": {},
   "outputs": [
    {
     "name": "stdout",
     "output_type": "stream",
     "text": [
      "name='Mohd Maaz' marks=[80, 90, 100] average=90.0\n"
     ]
    }
   ],
   "source": [
    "from pydantic import BaseModel, computed_field\n",
    "\n",
    "class Student(BaseModel):\n",
    "    name: str\n",
    "    marks: list[int]\n",
    "\n",
    "    \n",
    "    @computed_field  \n",
    "    @property\n",
    "    def average(self) -> float:\n",
    "        return sum(self.marks) / len(self.marks)\n",
    "    \n",
    "\n",
    "object1 = Student(name=\"Mohd Maaz\", marks=[80, 90, 100])\n",
    "print(object1)                   \n"
   ]
  },
  {
   "cell_type": "markdown",
   "id": "955a8443-5be2-4a98-bf4f-9709ad7fe157",
   "metadata": {},
   "source": [
    "## 7. Nested Models\n",
    "A field that is another Pydantic model (nested structure).\n",
    "\n",
    "3 ways to use:\n",
    "\n",
    "1. data1 with dictionary -> object1\n",
    "2. data1 -> object1 -> data2 -> object2\n",
    "3. data1 -> data2 -> object"
   ]
  },
  {
   "cell_type": "code",
   "execution_count": 101,
   "id": "07f77c4c-e11d-41ec-aef2-20657b638915",
   "metadata": {},
   "outputs": [
    {
     "name": "stdout",
     "output_type": "stream",
     "text": [
      "roll_num=101 name='Mohd Maaz' address=Address(city='Lucknow', state='UP', country='India')\n"
     ]
    }
   ],
   "source": [
    "# way 1\n",
    "from pydantic import BaseModel\n",
    "\n",
    "class Address(BaseModel):\n",
    "    city: str\n",
    "    state: str\n",
    "    country: str\n",
    "\n",
    "class Student(BaseModel):\n",
    "    roll_num: int\n",
    "    name: str\n",
    "    address: Address\n",
    "\n",
    "data = {\n",
    "    \"roll_num\": 101,\n",
    "    \"name\": \"Mohd Maaz\",\n",
    "    \"address\": {\n",
    "        \"city\": \"Lucknow\",\n",
    "        \"state\": \"UP\",\n",
    "        \"country\": \"India\"\n",
    "    }\n",
    "}\n",
    "\n",
    "student = Student(**data)\n",
    "\n",
    "print(student)\n"
   ]
  },
  {
   "cell_type": "code",
   "execution_count": 102,
   "id": "521e8ed7-43ab-4bd7-b22a-5deb7dec5af0",
   "metadata": {},
   "outputs": [
    {
     "name": "stdout",
     "output_type": "stream",
     "text": [
      "city='Lucknow' state='UP' country='India'\n",
      "\n",
      "name='Mohd Maaz' age=23 address=Address(city='Lucknow', state='UP', country='India')\n"
     ]
    }
   ],
   "source": [
    "# way 2\n",
    "from pydantic import BaseModel\n",
    "\n",
    "class Address(BaseModel):\n",
    "    city:str\n",
    "    state:str\n",
    "    country:str\n",
    "\n",
    "\n",
    "class Student(BaseModel):\n",
    "    name:str\n",
    "    age:int\n",
    "    address:Address\n",
    "\n",
    "data1 = {\n",
    "    'city':'Lucknow',\n",
    "    'state':'UP',\n",
    "    'country':'India'\n",
    "}\n",
    "\n",
    "object1 = Address(**data1)\n",
    "\n",
    "data2 = {\n",
    "    'name':'Mohd Maaz',\n",
    "    'age':23,\n",
    "    'address':object1\n",
    "}\n",
    "\n",
    "object2 = Student(**data2)\n",
    "\n",
    "print(object1)\n",
    "print()\n",
    "print(object2)"
   ]
  },
  {
   "cell_type": "code",
   "execution_count": 103,
   "id": "4de95848-a705-498f-b3da-2bfed3d2b3a8",
   "metadata": {},
   "outputs": [
    {
     "name": "stdout",
     "output_type": "stream",
     "text": [
      "name='Mohd Maaz' age=23 address=Address(city='Lucknow', state='UP', country='India')\n"
     ]
    }
   ],
   "source": [
    "# way 3\n",
    "from pydantic import BaseModel\n",
    "\n",
    "class Address(BaseModel):\n",
    "    city:str\n",
    "    state:str\n",
    "    country:str\n",
    "\n",
    "class Student(BaseModel):\n",
    "    name:str\n",
    "    age:int\n",
    "    address:Address\n",
    "\n",
    "data1 = {\n",
    "    'city':'Lucknow',\n",
    "    'state':'UP',\n",
    "    'country':'India'\n",
    "}\n",
    "\n",
    "data2 = {\n",
    "    'name':'Mohd Maaz',\n",
    "    'age':23,\n",
    "    'address':data1\n",
    "}\n",
    "\n",
    "final_object = Student(**data2)\n",
    "\n",
    "print(final_object)"
   ]
  },
  {
   "cell_type": "markdown",
   "id": "fe1b5396-9669-4bd0-be60-ffa55cdd9987",
   "metadata": {},
   "source": [
    "## 8. Serialization\n",
    "1. Serialization is the process of converting data or objects into a format that can be easily stored or transmitted and later reconstructed.\n",
    "\n",
    "2. Convert a model to dict or JSON for output or storage.\n",
    "\n",
    "There are 3 parameters:\n",
    "\n",
    "    1. include : Only include specific fields in the output.\n",
    "    2. exclude : Exclude specific fields from the output.\n",
    "    3. exclude_unset : Exclude fields that were not explicitly set (i.e., fields with default values)."
   ]
  },
  {
   "cell_type": "code",
   "execution_count": 104,
   "id": "46a40e70-d259-4265-adbd-3eafd94d8935",
   "metadata": {},
   "outputs": [
    {
     "name": "stdout",
     "output_type": "stream",
     "text": [
      "roll_num=101 name='mohd maaz' age=23 marks=89.45 has_scholarship=False\n",
      "<class '__main__.Student'>\n",
      "{'roll_num': 101, 'name': 'mohd maaz', 'age': 23, 'marks': 89.45, 'has_scholarship': False}\n",
      "<class 'dict'>\n",
      "{\"roll_num\":101,\"name\":\"mohd maaz\",\"age\":23,\"marks\":89.45,\"has_scholarship\":false}\n",
      "<class 'str'>\n"
     ]
    }
   ],
   "source": [
    "from pydantic import BaseModel\n",
    "\n",
    "class Student(BaseModel):\n",
    "    roll_num: int\n",
    "    name: str\n",
    "    age: int\n",
    "    marks: float\n",
    "    has_scholarship: bool\n",
    "\n",
    "data = {'roll_num':101,\n",
    "        'name':'mohd maaz', \n",
    "        'age':23,\n",
    "        'marks':89.45,\n",
    "        'has_scholarship':False}\n",
    "\n",
    "pydantic_object = Student(**data)\n",
    "\n",
    "# serialization - python dictionary\n",
    "python_dict = pydantic_object.model_dump()\n",
    "\n",
    "# serialization -  JSON format\n",
    "json_format = pydantic_object.model_dump_json()\n",
    "\n",
    "print(pydantic_object)\n",
    "print(type(pydantic_object))\n",
    "\n",
    "print(python_dict)\n",
    "print(type(python_dict))\n",
    "\n",
    "print(json_format)\n",
    "print(type(json_format))"
   ]
  },
  {
   "cell_type": "code",
   "execution_count": 105,
   "id": "be95f0d3-fe08-46ca-9ab2-eb91a3fbac1d",
   "metadata": {},
   "outputs": [
    {
     "name": "stdout",
     "output_type": "stream",
     "text": [
      "Exclude unset Example: {'roll_num': 101, 'name': 'mohd maaz', 'age': 23, 'marks': 89.45}\n",
      "Include Example: {'roll_num': 101, 'name': 'mohd maaz'}\n",
      "Exclude Example: {'roll_num': 101, 'name': 'mohd maaz', 'age': 23}\n"
     ]
    }
   ],
   "source": [
    "from pydantic import BaseModel\n",
    "\n",
    "class Student(BaseModel):\n",
    "    roll_num: int\n",
    "    name: str\n",
    "    age: int\n",
    "    marks: float\n",
    "    has_scholarship: bool = True\n",
    "\n",
    "data = {'roll_num':101,\n",
    "        'name':'mohd maaz', \n",
    "        'age':23,\n",
    "        'marks':89.45\n",
    "       }\n",
    "\n",
    "pydantic_object = Student(**data)\n",
    "\n",
    "# exclude unset \n",
    "exclude_unset_dict = pydantic_object.model_dump(exclude_unset=True)\n",
    "\n",
    "# Only include selected fields\n",
    "include_dict = pydantic_object.model_dump(include={\"roll_num\", \"name\"})\n",
    "\n",
    "# Exclude specific fields\n",
    "exclude_dict = pydantic_object.model_dump(exclude={\"marks\", \"has_scholarship\"})\n",
    "\n",
    "print(\"Exclude unset Example:\", exclude_unset_dict)\n",
    "print(\"Include Example:\", include_dict)\n",
    "print(\"Exclude Example:\", exclude_dict)"
   ]
  },
  {
   "cell_type": "code",
   "execution_count": null,
   "id": "29f35503-b075-4e7c-9bc6-ec6e0fc374ec",
   "metadata": {},
   "outputs": [],
   "source": []
  },
  {
   "cell_type": "code",
   "execution_count": null,
   "id": "7917d874-a2ff-4347-8b21-3b452443eb74",
   "metadata": {},
   "outputs": [],
   "source": []
  }
 ],
 "metadata": {
  "kernelspec": {
   "display_name": "Python 3 (ipykernel)",
   "language": "python",
   "name": "python3"
  },
  "language_info": {
   "codemirror_mode": {
    "name": "ipython",
    "version": 3
   },
   "file_extension": ".py",
   "mimetype": "text/x-python",
   "name": "python",
   "nbconvert_exporter": "python",
   "pygments_lexer": "ipython3",
   "version": "3.12.7"
  }
 },
 "nbformat": 4,
 "nbformat_minor": 5
}
